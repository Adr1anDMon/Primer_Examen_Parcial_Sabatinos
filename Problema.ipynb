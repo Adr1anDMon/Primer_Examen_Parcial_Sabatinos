{
  "nbformat": 4,
  "nbformat_minor": 0,
  "metadata": {
    "colab": {
      "name": "Problema.ipynb",
      "provenance": [],
      "collapsed_sections": [],
      "authorship_tag": "ABX9TyPaZZnEqFAtP17PP4mTv8XB",
      "include_colab_link": true
    },
    "kernelspec": {
      "name": "python3",
      "display_name": "Python 3"
    },
    "language_info": {
      "name": "python"
    }
  },
  "cells": [
    {
      "cell_type": "markdown",
      "metadata": {
        "id": "view-in-github",
        "colab_type": "text"
      },
      "source": [
        "<a href=\"https://colab.research.google.com/github/Adr1anDMon/Primer_Examen_Parcial_Sabatinos/blob/main/Problema.ipynb\" target=\"_parent\"><img src=\"https://colab.research.google.com/assets/colab-badge.svg\" alt=\"Open In Colab\"/></a>"
      ]
    },
    {
      "cell_type": "code",
      "execution_count": null,
      "metadata": {
        "colab": {
          "base_uri": "https://localhost:8080/"
        },
        "id": "j-vJlzeEgQAs",
        "outputId": "114a5555-dab5-4205-d9c3-78e07d346228"
      },
      "outputs": [
        {
          "output_type": "stream",
          "name": "stdout",
          "text": [
            "Ingrese un numero al azar: 5\n",
            "La sumatoria e los numeros desdde el numero inicial hasta el numero final es:  15\n"
          ]
        }
      ],
      "source": [
        "numero_inicial = int(input(\"Ingrese un numero al azar: \"))\n",
        "sumatoria = 0\n",
        "for numero in range(numero_inicial):\n",
        "     sumatoria = sumatoria + (numero + 1)\n",
        "print(\"La sumatoria e los numeros desdde el numero inicial hasta el numero final es: \",sumatoria)"
      ]
    }
  ]
}