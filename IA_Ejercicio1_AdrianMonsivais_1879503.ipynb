{
  "nbformat": 4,
  "nbformat_minor": 0,
  "metadata": {
    "colab": {
      "name": "Untitled2.ipynb",
      "provenance": [],
      "authorship_tag": "ABX9TyPF1740y6o1rkltsMKK7b7y",
      "include_colab_link": true
    },
    "kernelspec": {
      "name": "python3",
      "display_name": "Python 3"
    },
    "language_info": {
      "name": "python"
    }
  },
  "cells": [
    {
      "cell_type": "markdown",
      "metadata": {
        "id": "view-in-github",
        "colab_type": "text"
      },
      "source": [
        "<a href=\"https://colab.research.google.com/github/Adr1anDMon/Primer_Examen_Parcial_Sabatinos/blob/main/IA_Ejercicio1_AdrianMonsivais_1879503.ipynb\" target=\"_parent\"><img src=\"https://colab.research.google.com/assets/colab-badge.svg\" alt=\"Open In Colab\"/></a>"
      ]
    },
    {
      "cell_type": "markdown",
      "source": [
        "A2: Ejercicios Basicos en Python\n",
        "Adrian Dagoberto Monsivais Hernandez\n",
        "1879503\n",
        "N1-N3 002"
      ],
      "metadata": {
        "id": "jVVklzsxxwrR"
      }
    },
    {
      "cell_type": "code",
      "execution_count": 37,
      "metadata": {
        "colab": {
          "base_uri": "https://localhost:8080/"
        },
        "id": "cOTToZvJxrR6",
        "outputId": "4aaf35f2-09dc-4607-877e-3eea4db0e984"
      },
      "outputs": [
        {
          "output_type": "stream",
          "name": "stdout",
          "text": [
            "Como te llamas? Juan\n",
            "Nombre no reconocido\n"
          ]
        }
      ],
      "source": [
        "nombre = input (\"Como te llamas? \")\n",
        "if nombre == \"Ana\":\n",
        "   print(\"Nombre no reconocido\")\n",
        "elif nombre == \"Juan\":\n",
        "     print(\"Nombre no reconocido\")\n",
        "elif nombre == \"Pedro\":\n",
        "     print(\"Nombre no reconocido\")\n",
        "else:\n",
        "     print(\"!Hola \" + nombre + \"!\")\n",
        "\n"
      ]
    },
    {
      "cell_type": "code",
      "source": [
        "lista = list(reversed(range(9)))\n",
        "last = lista.pop()\n",
        "\n",
        "print(last)\n",
        "print(lista)"
      ],
      "metadata": {
        "colab": {
          "base_uri": "https://localhost:8080/"
        },
        "id": "bTErDSD0A-Cg",
        "outputId": "5ea61c37-2fa3-49be-ff90-7b1bb09e94b0"
      },
      "execution_count": 53,
      "outputs": [
        {
          "output_type": "stream",
          "name": "stdout",
          "text": [
            "0\n",
            "[8, 7, 6, 5, 4, 3, 2, 1]\n"
          ]
        }
      ]
    },
    {
      "cell_type": "code",
      "source": [
        ""
      ],
      "metadata": {
        "id": "flEAihagIFc8"
      },
      "execution_count": null,
      "outputs": []
    }
  ]
}